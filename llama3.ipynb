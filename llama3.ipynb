{
  "nbformat": 4,
  "nbformat_minor": 0,
  "metadata": {
    "colab": {
      "provenance": [],
      "gpuType": "T4",
      "authorship_tag": "ABX9TyPYYrH2dIB3euooRiVvdaRT",
      "include_colab_link": true
    },
    "kernelspec": {
      "name": "python3",
      "display_name": "Python 3"
    },
    "language_info": {
      "name": "python"
    },
    "accelerator": "GPU"
  },
  "cells": [
    {
      "cell_type": "markdown",
      "metadata": {
        "id": "view-in-github",
        "colab_type": "text"
      },
      "source": [
        "<a href=\"https://colab.research.google.com/github/JavierPachas/llama3/blob/main/llama3.ipynb\" target=\"_parent\"><img src=\"https://colab.research.google.com/assets/colab-badge.svg\" alt=\"Open In Colab\"/></a>"
      ]
    },
    {
      "cell_type": "code",
      "execution_count": null,
      "metadata": {
        "id": "Uykz-Mc-5jY5"
      },
      "outputs": [],
      "source": [
        "!pip install -U \"transformers==4.40.0\" --upgrade\n",
        "!pip install accelerate bitsandbytes"
      ]
    },
    {
      "cell_type": "code",
      "source": [
        "import transformers\n",
        "import torch\n",
        "\n",
        "model_id = \"unsloth/llama-3-8b-Instruct-bnb-4bit\"\n",
        "\n",
        "pipeline = transformers.pipeline(\n",
        "    \"text-generation\",\n",
        "    model=model_id,\n",
        "    model_kwargs={\n",
        "        \"torch_dtype\": torch.float16,\n",
        "        \"quantization_config\": {\"load_in_4bit\": True},\n",
        "        \"low_cpu_mem_usage\": True,\n",
        "    },\n",
        ")"
      ],
      "metadata": {
        "colab": {
          "base_uri": "https://localhost:8080/"
        },
        "id": "lSXHx0oS6DKn",
        "outputId": "9f5801d0-db7e-4d19-ba43-eaa6bed85aa0"
      },
      "execution_count": 3,
      "outputs": [
        {
          "output_type": "stream",
          "name": "stderr",
          "text": [
            "Unused kwargs: ['_load_in_4bit', '_load_in_8bit', 'quant_method']. These kwargs are not used in <class 'transformers.utils.quantization_config.BitsAndBytesConfig'>.\n",
            "Special tokens have been added in the vocabulary, make sure the associated word embeddings are fine-tuned or trained.\n"
          ]
        }
      ]
    },
    {
      "cell_type": "code",
      "source": [
        "messages = [\n",
        "    {\"role\": \"system\", \"content\": \"Eres un agente muy eficiente y respondes en español a menos que se te indique lo contrario\"},\n",
        "    {\"role\": \"user\", \"content\": \"\"\"Haz un resumen en 80 palabras del siguiente texto:\n",
        "                                ¿Qué son y para qué se utilizan los productos fitosanitarios? Los productos fitosanitarios (insecticidas, fungicidas, herbicidas…) son mezclas químicas cuyo objetivo es proteger a los vegetales de organismos nocivos. Contribuyen a aumentar los rendimientos en la agricultura, pero al mismo tiempo su uso incorrecto puede entrañar riesgos para la salud humana y el medioambiente. De acuerdo con Eurostat,  la venta de productos fitosanitarios en la UE-28 supuso 2016 372.567 toneladas 2017  2,7 % 362.626 toneladas El 19,8 % de las ventas se realizó en España, siendo el país con mayor venta de este tipo de productos (Perfil Ambiental de España 2018). ¿Cómo llega al medio ambiente? La presencia de sustancias químicas nocivas en los diferentes  compartimentos ambientales es una preocupación en aumento.  Muchas de esas sustancias provienen de la aplicación de productos fitosanitarios. Registro Oficial de Productos y Material Fitosanitario (ROPMF) 1. Si no eres usuario profesional, debes usar sólo aquellos productos destinados al público en general. 2. Antes de usar cualquier producto, lee detenidamente la etiqueta. Úsalo de acuerdo a las condiciones de utilización: cultivo y plaga objetivo, dosis, momento de aplicación, etc. Emplea las medidas de protección individual. Para poder comercializarse, estos productos deben tener una autorización y estar inscritos en el Registro Oficial de Productos Fitosanitarios del Ministerio de Agricultura, Pesca y Alimentación. La autorización se obtiene tras una exhaustiva evaluación de sus riegos. Es necesario que los productos fitosanitarios, para el uso al que se autoricen, sean seguros para la salud humana, no tengan efectos negativos en el medio ambiente y los residuos que permanecen en las partes comestibles de los vegetales se encuentren dentro de los umbrales aceptables. ¿Qué hay que tener en cuenta  a la hora de aplicar el fitosanitario? 3. Fíjate en el apartado de Mitigación de Riesgos Medioambientales. Cuantas menos frases de tipo “SPe” aparezcan, menor riesgo ambiental. 4. Los envases son considerados residuos peligrosos. Deséchalos en los puntos habilitados para ello siguiendo las instrucciones especificadas en el etiquetado. Prioriza los métodos alternativos no químicos,  siempre que sea posible • Aplicación de las Guías de Gestión Integrada de Plagas • Limpieza periódica de la maquinaria de propágulos nocivos • Uso de prácticas de fertilización, riego y drenaje equilibradas • Aumenta la diversidad en la rotación de cultivos • Uso de simiente y plantones certificados y de variedades resistentes o tolerantes • Mantenimiento de franjas de vegetación natural permanente • Si procede, desbroce previo a la aplicación de un herbicida para aumentar la eficacia y reducir la cantidad necesaria Toma las medidas necesarias para prevenir la contaminación, y reducir las aplicaciones Usa productos de bajo riesgo en zonas sensibles (de extracción de agua para consumo humano y  zonas de protección de hábitats y especies). ¿Cómo evitar la contaminación de las aguas? 5 metros Respeta una banda de seguridad de 5 metros como mínimo con respecto a las masas de agua superficial, o en superficies muy Cubre los puntos de agua, como pozos, de las parcelas a tratar, para evitar la contaminación puntual, durante el tratamiento. 50 metros Deja sin tratar una distancia de 50 metros como mínimo respecto a los puntos de extracción de agua para consumo humano. permeables. en su caso, lo indicado en la etiqueta. Prioriza productos que resulten menos peligrosos para los organismos acuáticos. Si llevan el pictograma y la palabra de advertencia Atención, son más tóxicos. Fíjate en la indicación de peligro. La toxicidad disminuye según el siguiente orden: H400 y H4 H400 y H4 H4 H4 H4 H4 H4 S H4 Está en tu mano contribuir a su reducción H400 y H4 H4 S MINISTERIO PARA LA TRANSICIÓN ECOLÓGICA Y EL RETO DEMOGRÁFICO GOBIERNO DE ESPAÑA H4 H4 S\n",
        "                                \"\"\"},\n",
        "]\n",
        "\n",
        "prompt = pipeline.tokenizer.apply_chat_template(\n",
        "        messages,\n",
        "        tokenize=False,\n",
        "        add_generation_prompt=True\n",
        ")\n",
        "\n",
        "terminators = [\n",
        "    pipeline.tokenizer.eos_token_id,\n",
        "    pipeline.tokenizer.convert_tokens_to_ids(\"<|eot_id|>\")\n",
        "]\n",
        "\n",
        "outputs = pipeline(\n",
        "    prompt,\n",
        "    max_new_tokens=256,\n",
        "    eos_token_id=terminators,\n",
        "    do_sample=True,\n",
        "    temperature=0.6,\n",
        "    top_p=0.9,\n",
        ")\n",
        "\n",
        "print(outputs[0][\"generated_text\"][len(prompt):])"
      ],
      "metadata": {
        "colab": {
          "base_uri": "https://localhost:8080/"
        },
        "id": "tRZDLEBQ9DGS",
        "outputId": "35c233c4-c425-4938-d218-6503416d4b1c"
      },
      "execution_count": 5,
      "outputs": [
        {
          "output_type": "stream",
          "name": "stdout",
          "text": [
            "En 80 palabras:\n",
            "\n",
            "Los productos fitosanitarios, como insecticidas, fungicidas y herbicidas, se utilizan para proteger cultivos de plagas y enfermedades. Aunque aumentan los rendimientos agrícolas, su uso incorrecto puede afectar la salud humana y el medio ambiente. Es importante leer la etiqueta y seguir las instrucciones para evitar la contaminación y reducir los riesgos. Es fundamental priorizar métodos alternativos no químicos y productos de bajo riesgo en zonas sensibles.\n"
          ]
        }
      ]
    },
    {
      "cell_type": "code",
      "source": [],
      "metadata": {
        "id": "qt7osqJ19Y7g"
      },
      "execution_count": null,
      "outputs": []
    }
  ]
}